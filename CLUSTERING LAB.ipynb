{
 "cells": [
  {
   "cell_type": "code",
   "execution_count": 1,
   "metadata": {},
   "outputs": [],
   "source": [
    "#K means Clustering"
   ]
  },
  {
   "cell_type": "code",
   "execution_count": 22,
   "metadata": {},
   "outputs": [],
   "source": [
    "#Importing Libraries\n",
    "from pandas import DataFrame\n",
    "import matplotlib.pyplot as plt\n",
    "from sklearn.cluster import KMeans"
   ]
  },
  {
   "cell_type": "code",
   "execution_count": 23,
   "metadata": {},
   "outputs": [
    {
     "name": "stdout",
     "output_type": "stream",
     "text": [
      "X: [30, 32, 38, 78, 82, 85, 34, 55, 33, 93, 87, 73, 35, 41, 75, 48, 89, 61, 50, 80, 68, 72, 70, 84, 47, 40, 37, 36, 71, 64, 44, 63, 59, 42, 98, 58, 45, 74, 65, 60, 57, 62, 81, 95, 51, 97, 94, 99, 77, 46]\n",
      "Y: [124, 128, 72, 98, 144, 89, 139, 116, 122, 69, 120, 93, 100, 62, 61, 60, 121, 133, 79, 127, 87, 132, 141, 148, 83, 73, 135, 64, 88, 131, 118, 112, 119, 109, 140, 108, 77, 143, 90, 110, 146, 126, 104, 65, 123, 136, 92, 138, 82, 67]\n"
     ]
    },
    {
     "data": {
      "text/html": [
       "<div>\n",
       "<style scoped>\n",
       "    .dataframe tbody tr th:only-of-type {\n",
       "        vertical-align: middle;\n",
       "    }\n",
       "\n",
       "    .dataframe tbody tr th {\n",
       "        vertical-align: top;\n",
       "    }\n",
       "\n",
       "    .dataframe thead th {\n",
       "        text-align: right;\n",
       "    }\n",
       "</style>\n",
       "<table border=\"1\" class=\"dataframe\">\n",
       "  <thead>\n",
       "    <tr style=\"text-align: right;\">\n",
       "      <th></th>\n",
       "      <th>X</th>\n",
       "      <th>Y</th>\n",
       "    </tr>\n",
       "  </thead>\n",
       "  <tbody>\n",
       "    <tr>\n",
       "      <th>0</th>\n",
       "      <td>30</td>\n",
       "      <td>124</td>\n",
       "    </tr>\n",
       "    <tr>\n",
       "      <th>1</th>\n",
       "      <td>32</td>\n",
       "      <td>128</td>\n",
       "    </tr>\n",
       "    <tr>\n",
       "      <th>2</th>\n",
       "      <td>38</td>\n",
       "      <td>72</td>\n",
       "    </tr>\n",
       "    <tr>\n",
       "      <th>3</th>\n",
       "      <td>78</td>\n",
       "      <td>98</td>\n",
       "    </tr>\n",
       "    <tr>\n",
       "      <th>4</th>\n",
       "      <td>82</td>\n",
       "      <td>144</td>\n",
       "    </tr>\n",
       "  </tbody>\n",
       "</table>\n",
       "</div>"
      ],
      "text/plain": [
       "    X    Y\n",
       "0  30  124\n",
       "1  32  128\n",
       "2  38   72\n",
       "3  78   98\n",
       "4  82  144"
      ]
     },
     "execution_count": 23,
     "metadata": {},
     "output_type": "execute_result"
    }
   ],
   "source": [
    "# Generating a random dataset of 50 elements\n",
    "# x and y variables using random function\n",
    "# Range 30 to 100 integers for x \n",
    "# Range 60 to 150 integers for y\n",
    "import random\n",
    "import numpy\n",
    "x=random.sample(range(30, 100), 50)\n",
    "print(\"X:\",x)\n",
    "y=random.sample(range(60, 150), 50)\n",
    "print(\"Y:\",y)\n",
    "values={'X':x,'Y':y}\n",
    "data= DataFrame(values)\n",
    "data.head()"
   ]
  },
  {
   "cell_type": "code",
   "execution_count": 24,
   "metadata": {},
   "outputs": [
    {
     "name": "stdout",
     "output_type": "stream",
     "text": [
      "[[ 48.72222222 122.16666667]\n",
      " [ 84.41666667 132.83333333]\n",
      " [ 63.25        77.55      ]]\n"
     ]
    }
   ],
   "source": [
    "#Dividing the dataset into three clusters using KMeans\n",
    "kmeans = KMeans(n_clusters=3).fit(data)\n",
    "centroids = kmeans.cluster_centers_\n",
    "print(centroids)"
   ]
  },
  {
   "cell_type": "code",
   "execution_count": 25,
   "metadata": {},
   "outputs": [],
   "source": [
    "#Visualising the clusters using tkinter GUI\n",
    "\n",
    "import tkinter as tk\n",
    "from matplotlib.backends.backend_tkagg import FigureCanvasTkAgg\n",
    "root= tk.Tk()\n",
    "canvas1 = tk.Canvas(root, width = 100, height = 100)\n",
    "canvas1.pack()\n",
    "label1 = tk.Label(root, text=centroids, justify = 'center')\n",
    "canvas1.create_window(10, 90, window=label1)\n",
    "figure1 = plt.Figure(figsize=(5,4), dpi=100)\n",
    "ax1 = figure1.add_subplot(111)\n",
    "ax1.scatter(data['X'], data['Y'], c= kmeans.labels_.astype(float), s=50, alpha=0.5)\n",
    "ax1.scatter(centroids[:, 0], centroids[:, 1], c='red', s=50)\n",
    "scatter1 = FigureCanvasTkAgg(figure1, root) \n",
    "scatter1.get_tk_widget().pack(side=tk.LEFT, fill=tk.BOTH)\n",
    "\n",
    "root.mainloop()"
   ]
  },
  {
   "cell_type": "code",
   "execution_count": null,
   "metadata": {},
   "outputs": [],
   "source": []
  }
 ],
 "metadata": {
  "kernelspec": {
   "display_name": "Python 3",
   "language": "python",
   "name": "python3"
  },
  "language_info": {
   "codemirror_mode": {
    "name": "ipython",
    "version": 3
   },
   "file_extension": ".py",
   "mimetype": "text/x-python",
   "name": "python",
   "nbconvert_exporter": "python",
   "pygments_lexer": "ipython3",
   "version": "3.8.3"
  }
 },
 "nbformat": 4,
 "nbformat_minor": 4
}
